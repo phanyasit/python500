{
 "cells": [
  {
   "cell_type": "code",
   "execution_count": 3,
   "metadata": {},
   "outputs": [
    {
     "name": "stdout",
     "output_type": "stream",
     "text": [
      "ยินดีที่ได้รู้จัก\n"
     ]
    }
   ],
   "source": [
    "name = input('กรุณากรอกชื่อ :')\n",
    "\n",
    "if name == 'ต้องใจ':\n",
    "    print('สวัสดีต้องใจ')\n",
    "elif name == 'ปันปัน':\n",
    "    print('สัวดีจ้าปันปัน')\n",
    "print('ยินดีที่ได้รู้จัก')"
   ]
  },
  {
   "cell_type": "markdown",
   "metadata": {},
   "source": [
    "# IF-ELIF-ELSE"
   ]
  },
  {
   "cell_type": "code",
   "execution_count": 4,
   "metadata": {},
   "outputs": [
    {
     "name": "stdout",
     "output_type": "stream",
     "text": [
      "\n",
      "Leave me alone\n"
     ]
    }
   ],
   "source": [
    "name = input('กรุณากรอกชื่อ : ')\n",
    "print()\n",
    "\n",
    "if name =='gift':\n",
    "    print('I miss you')\n",
    "elif name =='cherry':\n",
    "    print('I love you')\n",
    "elif name == 'wine':\n",
    "    print('I need you')\n",
    "else:\n",
    "    print('Leave me alone')"
   ]
  },
  {
   "cell_type": "code",
   "execution_count": null,
   "metadata": {},
   "outputs": [],
   "source": [
    "if condition1:\n",
    "    operation1\n",
    "else:\n",
    "    operation2\n",
    "operation3\n",
    "operation4"
   ]
  },
  {
   "cell_type": "code",
   "execution_count": null,
   "metadata": {},
   "outputs": [],
   "source": [
    "if condition1:\n",
    "    operation1\n",
    "else:\n",
    "    operation2"
   ]
  },
  {
   "cell_type": "markdown",
   "metadata": {},
   "source": [
    "# Question 1"
   ]
  },
  {
   "cell_type": "code",
   "execution_count": 10,
   "metadata": {},
   "outputs": [
    {
     "name": "stdout",
     "output_type": "stream",
     "text": [
      "เลขคู่\n"
     ]
    }
   ],
   "source": [
    "number = int(input('กรุณากรอกตัวเลข'))\n",
    "\n",
    "if number%2 == 0:\n",
    "    print('เลขคู่')\n",
    "else:\n",
    "    print('เลขคี่')"
   ]
  },
  {
   "cell_type": "markdown",
   "metadata": {},
   "source": [
    "# Question 2"
   ]
  },
  {
   "cell_type": "code",
   "execution_count": 20,
   "metadata": {},
   "outputs": [
    {
     "name": "stdout",
     "output_type": "stream",
     "text": [
      "น้อยกว่าหรือเท่ากับ0\n"
     ]
    }
   ],
   "source": [
    "number = int(input('กรุณากรอกตัวเลข'))\n",
    "\n",
    "if number >0:\n",
    "    print('มากกว่า0')\n",
    "else:\n",
    "    print('น้อยกว่าหรือเท่ากับ0')"
   ]
  },
  {
   "cell_type": "markdown",
   "metadata": {},
   "source": [
    "# Question 3"
   ]
  },
  {
   "cell_type": "code",
   "execution_count": 30,
   "metadata": {},
   "outputs": [
    {
     "name": "stdout",
     "output_type": "stream",
     "text": [
      "zero\n"
     ]
    }
   ],
   "source": [
    "number = float(input('กรุณากรอกตัวเลข'))\n",
    "\n",
    "if number >0:\n",
    "    print('positive')\n",
    "elif number<0:\n",
    "    print('negative')\n",
    "else:\n",
    "    print('zero')"
   ]
  },
  {
   "cell_type": "markdown",
   "metadata": {},
   "source": [
    "# Question 4"
   ]
  },
  {
   "cell_type": "code",
   "execution_count": 45,
   "metadata": {},
   "outputs": [
    {
     "name": "stdout",
     "output_type": "stream",
     "text": [
      "negative odd\n"
     ]
    }
   ],
   "source": [
    "number = float(input('กรุณากรอกตัวเลข'))\n",
    "if number > 0:\n",
    "    if number%2==0:\n",
    "        print('positive even')\n",
    "    else:\n",
    "        print('positive odd')\n",
    "elif number < 0:\n",
    "    if number%2==0:\n",
    "        print('negative even')\n",
    "    else:\n",
    "        print('negative odd')\n",
    "else:\n",
    "    print('zero')"
   ]
  },
  {
   "cell_type": "markdown",
   "metadata": {},
   "source": [
    "# Question 5"
   ]
  },
  {
   "cell_type": "code",
   "execution_count": 51,
   "metadata": {},
   "outputs": [
    {
     "name": "stdout",
     "output_type": "stream",
     "text": [
      "กรุณากรอจำนวนเต็มบวก\n"
     ]
    }
   ],
   "source": [
    "width = int(input('กรุณากรอกด้านกว้าง'))\n",
    "length = int(input('กรุณากรอกด้านยาว'))\n",
    "\n",
    "if (width>0) and (length>0):\n",
    "    area = width*length\n",
    "    print(area)\n",
    "else:\n",
    "    print('กรุณากรอจำนวนเต็มบวก')"
   ]
  },
  {
   "cell_type": "code",
   "execution_count": 57,
   "metadata": {},
   "outputs": [
    {
     "name": "stdout",
     "output_type": "stream",
     "text": [
      "กรอกข้อมูลที่มากกว่าหรือเท่ากับ 0\n"
     ]
    }
   ],
   "source": [
    "be = int(input('กรอกปี ค.ศ.'))\n",
    "if (be>=0):\n",
    "    ad = be+543\n",
    "    print('ปี พ.ศ. =',ad)\n",
    "else:\n",
    "    print('กรอกข้อมูลที่มากกว่าหรือเท่ากับ 0')"
   ]
  },
  {
   "cell_type": "markdown",
   "metadata": {},
   "source": [
    "# Question 7"
   ]
  },
  {
   "cell_type": "code",
   "execution_count": 64,
   "metadata": {},
   "outputs": [
    {
     "name": "stdout",
     "output_type": "stream",
     "text": [
      "Cold\n"
     ]
    }
   ],
   "source": [
    "F = float(input('กรุณากรอกอุณหภูมิ หน่วยฟาเรนไฮต์'))\n",
    "\n",
    "if (F>=32):\n",
    "    C = 5*(F-32)/9\n",
    "    print('อุณหภูมิที่ได้',C,'องศา')\n",
    "else:\n",
    "    print('Cold')"
   ]
  },
  {
   "cell_type": "code",
   "execution_count": null,
   "metadata": {},
   "outputs": [],
   "source": []
  }
 ],
 "metadata": {
  "kernelspec": {
   "display_name": "Python 3",
   "language": "python",
   "name": "python3"
  },
  "language_info": {
   "codemirror_mode": {
    "name": "ipython",
    "version": 3
   },
   "file_extension": ".py",
   "mimetype": "text/x-python",
   "name": "python",
   "nbconvert_exporter": "python",
   "pygments_lexer": "ipython3",
   "version": "3.10.11"
  }
 },
 "nbformat": 4,
 "nbformat_minor": 2
}
